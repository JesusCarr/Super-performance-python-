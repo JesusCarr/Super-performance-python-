{
  "nbformat": 4,
  "nbformat_minor": 0,
  "metadata": {
    "colab": {
      "provenance": [],
      "authorship_tag": "ABX9TyNDyVHLyWrGlEPXekzVjxA0",
      "include_colab_link": true
    },
    "kernelspec": {
      "name": "python3",
      "display_name": "Python 3"
    },
    "language_info": {
      "name": "python"
    }
  },
  "cells": [
    {
      "cell_type": "markdown",
      "metadata": {
        "id": "view-in-github",
        "colab_type": "text"
      },
      "source": [
        "<a href=\"https://colab.research.google.com/github/JesusCarr/Super-performance-python-/blob/main/Programming_Exercises.ipynb\" target=\"_parent\"><img src=\"https://colab.research.google.com/assets/colab-badge.svg\" alt=\"Open In Colab\"/></a>"
      ]
    },
    {
      "cell_type": "code",
      "source": [
        "colors = [\"red\", \"blue\", \"white\"]\n",
        "types = [\"warm\", \"cool\", \"neutral\"]\n",
        "\n",
        "for c, t in zip(colors, types):\n",
        "    print(c + \" is \" + t)"
      ],
      "metadata": {
        "id": "RJNvouT_aw6_"
      },
      "execution_count": null,
      "outputs": []
    },
    {
      "cell_type": "code",
      "source": [
        "colors = [\"orange\", \"brown\", \"indigo\", \"black\"]\n",
        "\n",
        "for i, v in enumerate(colors):\n",
        "    print(i , v)"
      ],
      "metadata": {
        "id": "9ZYzNg6ZeYi3"
      },
      "execution_count": null,
      "outputs": []
    },
    {
      "cell_type": "code",
      "source": [
        "grades = {'Ana': 'B', 'John':'A+', 'Denise':\"A\", \"katy\": 'A'}\n",
        "\n",
        "for name, g in grades.items():\n",
        "    print(name + \" had \" + g)"
      ],
      "metadata": {
        "id": "592_9UW5eoYr"
      },
      "execution_count": null,
      "outputs": []
    },
    {
      "cell_type": "code",
      "source": [
        "colors = [\"blue\", \"red\", \"black\", \"yellow\"]\n",
        "\n",
        "for i in reversed(colors):\n",
        "    print(i)"
      ],
      "metadata": {
        "id": "pWqOnqV_e2Zu"
      },
      "execution_count": null,
      "outputs": []
    },
    {
      "cell_type": "code",
      "source": [
        "value = []\n",
        "items=[x for x in input().split(',')]\n",
        "for p in items:\n",
        "    intp = int(p, 2)\n",
        "    if not intp%5:\n",
        "        value.append(p)\n",
        "\n",
        "print(','.join(value))"
      ],
      "metadata": {
        "id": "MP3sHyzSfWdB"
      },
      "execution_count": null,
      "outputs": []
    },
    {
      "cell_type": "code",
      "source": [
        "#@title\n",
        "values = []\n",
        "for i in range(1000, 3001):\n",
        "    s = str(i)\n",
        "    if (int(s[0])%2==0) and (int(s[1])%2==0) and (int(s[2])%2==0) and (int(s[3])%2==0):\n",
        "        values.append(s)\n",
        "print(\",\".join(values))"
      ],
      "metadata": {
        "id": "7G4bmM8Fxc3y"
      },
      "execution_count": null,
      "outputs": []
    }
  ]
}